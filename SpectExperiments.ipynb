{
 "cells": [
  {
   "cell_type": "code",
   "execution_count": 1,
   "metadata": {
    "collapsed": false
   },
   "outputs": [],
   "source": [
    "# Run some setup code for this notebook.\n",
    "import random\n",
    "import numpy as np\n",
    "import os\n",
    "import utils as ut\n",
    "import wave\n",
    "import SoundUtils as SU\n",
    "import pylab\n",
    "import Spectograms as spectograms\n",
    "import forwardPath as forward\n",
    "import matplotlib \n",
    "import matplotlib.image as pltimg\n",
    "import matplotlib.pyplot as plt\n",
    "%matplotlib inline\n",
    "import scipy.io\n",
    "import math\n",
    "from PIL import Image\n",
    "\n",
    "%load_ext autoreload\n",
    "%autoreload 2"
   ]
  },
  {
   "cell_type": "code",
   "execution_count": 2,
   "metadata": {
    "collapsed": true
   },
   "outputs": [],
   "source": [
    "path_to_flac_test_folder_track = \"/Volumes/Storage/TIMIT/timit/train/dr1/fcjf0/SA1.WAV\"\n",
    "temp_folder = \"/Volumes/Storage/Temp\"\n",
    "temp_image_to_process = \"/Volumes/Storage/processing.jpg\"\n",
    "array_inversion_file = \"/Users/Sergey/Thesis/SpectrogramInversion1.02b/invertMe.mat\"\n",
    "array_inversion_shown_file = \"/Users/Sergey/Thesis/SpectrogramInversion1.02b/invertMeShown.mat\"\n",
    "\n",
    "\n",
    "temp = \"temp.jpg\""
   ]
  },
  {
   "cell_type": "code",
   "execution_count": 3,
   "metadata": {
    "collapsed": false
   },
   "outputs": [],
   "source": [
    "wav_file = SU.PCM2Wav(path_to_flac_test_folder_track, temp_folder)"
   ]
  },
  {
   "cell_type": "code",
   "execution_count": 4,
   "metadata": {
    "collapsed": false
   },
   "outputs": [],
   "source": [
    "frames, frame_rate = spectograms.get_wav_info(wav_file)"
   ]
  },
  {
   "cell_type": "code",
   "execution_count": 5,
   "metadata": {
    "collapsed": false
   },
   "outputs": [
    {
     "data": {
      "text/plain": [
       "'/Volumes/Storage/Temp/SA1.wav'"
      ]
     },
     "execution_count": 5,
     "metadata": {},
     "output_type": "execute_result"
    }
   ],
   "source": [
    "wav_file"
   ]
  },
  {
   "cell_type": "code",
   "execution_count": 6,
   "metadata": {
    "collapsed": false
   },
   "outputs": [],
   "source": [
    "windowSize = 256\n",
    "frameStep = 128\n",
    "waveform = frames\n",
    "spect = spectograms.CreateSpectogram(waveform)\n",
    "magSpec, freqs, times = spectograms.SpectrogramForDisplay(spect, frame_rate, frameStep)"
   ]
  },
  {
   "cell_type": "code",
   "execution_count": 7,
   "metadata": {
    "collapsed": false
   },
   "outputs": [],
   "source": [
    "scipy.io.savemat(array_inversion_file, mdict={'spect':spect})"
   ]
  },
  {
   "cell_type": "code",
   "execution_count": 8,
   "metadata": {
    "collapsed": true
   },
   "outputs": [],
   "source": [
    "A = np.real(magSpec)\n",
    "normalized, minEl, maxEl = spectograms.normalize(A)\n",
    "normedRGB = spectograms.toRGB(normalized)"
   ]
  },
  {
   "cell_type": "code",
   "execution_count": 9,
   "metadata": {
    "collapsed": true
   },
   "outputs": [],
   "source": [
    "from PIL import Image\n",
    "img = Image.fromarray(normedRGB)\n",
    "img.save(temp)"
   ]
  },
  {
   "cell_type": "code",
   "execution_count": 20,
   "metadata": {
    "collapsed": false
   },
   "outputs": [],
   "source": [
    "A = pltimg.imread(temp)\n",
    "grayArr = spectograms.fromRgb(A)\n",
    "original = np.flipud(spectograms.originalFromNormalized(grayArr, minEl, maxEl))\n",
    "backwardSpec = spectograms.backwardDisplaySpectogram(spect, original, windowSize)"
   ]
  },
  {
   "cell_type": "code",
   "execution_count": null,
   "metadata": {
    "collapsed": false
   },
   "outputs": [],
   "source": [
    "scipy.io.savemat(array_inversion_shown_file, mdict={'spect2':backwardSpec})"
   ]
  },
  {
   "cell_type": "code",
   "execution_count": 19,
   "metadata": {
    "collapsed": true
   },
   "outputs": [],
   "source": []
  },
  {
   "cell_type": "code",
   "execution_count": 17,
   "metadata": {
    "collapsed": false
   },
   "outputs": [],
   "source": []
  },
  {
   "cell_type": "code",
   "execution_count": null,
   "metadata": {
    "collapsed": false
   },
   "outputs": [],
   "source": []
  },
  {
   "cell_type": "code",
   "execution_count": null,
   "metadata": {
    "collapsed": true
   },
   "outputs": [],
   "source": []
  }
 ],
 "metadata": {
  "kernelspec": {
   "display_name": "Python 2",
   "language": "python",
   "name": "python2"
  },
  "language_info": {
   "codemirror_mode": {
    "name": "ipython",
    "version": 2
   },
   "file_extension": ".py",
   "mimetype": "text/x-python",
   "name": "python",
   "nbconvert_exporter": "python",
   "pygments_lexer": "ipython2",
   "version": "2.7.11"
  }
 },
 "nbformat": 4,
 "nbformat_minor": 0
}
