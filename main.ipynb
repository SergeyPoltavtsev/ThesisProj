{
 "cells": [
  {
   "cell_type": "code",
   "execution_count": 1,
   "metadata": {
    "collapsed": false
   },
   "outputs": [],
   "source": [
    "# Run some setup code for this notebook.\n",
    "import random\n",
    "import numpy as np\n",
    "import matplotlib.pyplot as plt\n",
    "#import scipy.misc\n",
    "import os\n",
    "#from datetime import datetime as dt\n",
    "import utils as ut\n",
    "import wave\n",
    "import SoundUtils as SU\n",
    "import pylab\n",
    "import Spectograms as spectograms\n",
    "#import tensorflow as tf\n",
    "import forwardPath as forward\n",
    "\n",
    "# This is a bit of magic to make matplotlib figures appear inline in the\n",
    "# notebook rather than in a new window.\n",
    "%matplotlib inline\n",
    "plt.rcParams['figure.figsize'] = (10.0, 8.0) # set default size of plots\n",
    "plt.rcParams['image.interpolation'] = 'nearest'\n",
    "plt.rcParams['image.cmap'] = 'gray'\n",
    "\n",
    "# Some more magic so that the notebook will reload external python modules;\n",
    "# see http://stackoverflow.com/questions/1907993/autoreload-of-modules-in-ipython\n",
    "%load_ext autoreload\n",
    "%autoreload 2"
   ]
  },
  {
   "cell_type": "code",
   "execution_count": 2,
   "metadata": {
    "collapsed": true
   },
   "outputs": [],
   "source": [
    "# define pathes \n",
    "# content_image_path = 'neural-art-tf/images/content_spec.jpg'\n",
    "\n",
    "model_weights_path = '/Users/Sergey/Thesis/Projects/neural-art-tf/models/vgg'\n",
    "#model_weights_path = '/Users/Sergey/Thesis/Projects/ThesisProj/models/vgg'\n",
    "\n",
    "out_dir =\"neural-art-tf/output\"\n",
    "device=\"/cpu:0\"\n",
    "\n",
    "\n",
    "path_to_params = \"/Volumes/Storage/parameters100/\"\n",
    "#path_to_spectrums = \"/Volumes/Storage/spectrums/1673\"\n",
    "\n",
    "#sound\n",
    "path_to_flac = \"/Volumes/Storage/LibriSpeech2/train-clean-100\"\n",
    "path_to_flac_test_folder = \"/Volumes/Storage/LibriSpeech 2/train-clean-100/19/198\"\n",
    "path_to_flac_test_folder_track = \"/Volumes/Storage/LibriSpeech 2/train-clean-100/19/198/19-198-0001.flac\"\n",
    "\n",
    "#temp\n",
    "temp_folder = \"/Volumes/Storage/Temp\"\n",
    "temp_image_to_process = \"/Volumes/Storage/processing.png\""
   ]
  },
  {
   "cell_type": "code",
   "execution_count": 3,
   "metadata": {
    "collapsed": false
   },
   "outputs": [],
   "source": [
    "#load params ones\n",
    "params = np.load(model_weights_path).item()\n",
    "pathes = ut.reverseFolder(path_to_flac, \".flac\")"
   ]
  },
  {
   "cell_type": "code",
   "execution_count": null,
   "metadata": {
    "collapsed": false
   },
   "outputs": [
    {
     "name": "stdout",
     "output_type": "stream",
     "text": [
      "/Volumes/Storage/LibriSpeech2/train-clean-100/103/1240/103-1240-0000.flac\n",
      "Load content values...\n",
      "Load content values...\n",
      "Load content values...\n",
      "Load content values..."
     ]
    }
   ],
   "source": [
    "#take one file and conevert it to wav then cut it into chunks\n",
    "for path in pathes:\n",
    "    print path\n",
    "    wav_file = SU.Flac2Wav(path, temp_folder)\n",
    "    SU.cutIntoChunks(wav_file, temp_folder)\n",
    "    chunk_pathes = ut.reverseFolder(temp_folder, '.wav')\n",
    "    for chunk in chunk_pathes:\n",
    "        spectograms.graph_spectrogram(chunk, temp_image_to_process)\n",
    "        folder, name = forward.getPath(path_to_params, os.path.basename(wav_file), os.path.basename(chunk))\n",
    "        forward.spectrumToArrays(device, params, temp_image_to_process, folder, name)\n",
    "    #clean temp folder\n",
    "    ut.cleanFolder(temp_folder)"
   ]
  },
  {
   "cell_type": "code",
   "execution_count": null,
   "metadata": {
    "collapsed": false
   },
   "outputs": [],
   "source": []
  },
  {
   "cell_type": "code",
   "execution_count": null,
   "metadata": {
    "collapsed": true
   },
   "outputs": [],
   "source": []
  }
 ],
 "metadata": {
  "kernelspec": {
   "display_name": "Python 2",
   "language": "python",
   "name": "python2"
  },
  "language_info": {
   "codemirror_mode": {
    "name": "ipython",
    "version": 2
   },
   "file_extension": ".py",
   "mimetype": "text/x-python",
   "name": "python",
   "nbconvert_exporter": "python",
   "pygments_lexer": "ipython2",
   "version": "2.7.10"
  }
 },
 "nbformat": 4,
 "nbformat_minor": 0
}
